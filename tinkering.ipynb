{
 "cells": [
  {
   "cell_type": "markdown",
   "metadata": {},
   "source": [
    "# Swarm Tinkering"
   ]
  },
  {
   "cell_type": "code",
   "execution_count": 1,
   "metadata": {},
   "outputs": [
    {
     "name": "stderr",
     "output_type": "stream",
     "text": [
      "/local/home/mamien/miniconda3/envs/swarm/lib/python3.10/site-packages/tqdm/auto.py:21: TqdmWarning: IProgress not found. Please update jupyter and ipywidgets. See https://ipywidgets.readthedocs.io/en/stable/user_install.html\n",
      "  from .autonotebook import tqdm as notebook_tqdm\n",
      "Special tokens have been added in the vocabulary, make sure the associated word embeddings are fine-tuned or trained.\n"
     ]
    },
    {
     "name": "stdout",
     "output_type": "stream",
     "text": [
      "Model loaded\n",
      "Number of parameters: 2702599680\n",
      "Nodes: {'nr76': <swarm.environment.operations.final_decision.FinalDecision object at 0x7fb23c677190>}\n",
      "Nodes: {'73iA': <swarm.environment.operations.direct_answer.DirectAnswer object at 0x7fb23c6a4bb0>}\n",
      "Nodes: {'nr76': <swarm.environment.operations.final_decision.FinalDecision object at 0x7fb23c677190>, '73iA': <swarm.environment.operations.direct_answer.DirectAnswer object at 0x7fb23c6a4bb0>}\n",
      "Nodes: {'8THk': <swarm.environment.operations.direct_answer.DirectAnswer object at 0x7fb23c6a5060>}\n",
      "Nodes: {'nr76': <swarm.environment.operations.final_decision.FinalDecision object at 0x7fb23c677190>, '73iA': <swarm.environment.operations.direct_answer.DirectAnswer object at 0x7fb23c6a4bb0>, '8THk': <swarm.environment.operations.direct_answer.DirectAnswer object at 0x7fb23c6a5060>}\n",
      "Nodes: {'7maD': <swarm.environment.operations.direct_answer.DirectAnswer object at 0x7fb23c6a5150>}\n",
      "Nodes: {'nr76': <swarm.environment.operations.final_decision.FinalDecision object at 0x7fb23c677190>, '73iA': <swarm.environment.operations.direct_answer.DirectAnswer object at 0x7fb23c6a4bb0>, '8THk': <swarm.environment.operations.direct_answer.DirectAnswer object at 0x7fb23c6a5060>, '7maD': <swarm.environment.operations.direct_answer.DirectAnswer object at 0x7fb23c6a5150>}\n",
      "Swarm 4vcu has been created.\n",
      "Prompt: What is the capital of Jordan?\n",
      "Input IDs: tensor([[ 1276,   310,   253,  5347,   273, 13268,    32]], device='cuda:7')\n",
      "Input IDs: tensor([[ 1276,   310,   253,  5347,   273, 13268,    32]], device='cuda:7')\n",
      "Input IDs: tensor([[ 1276,   310,   253,  5347,   273, 13268,    32]], device='cuda:7')\n",
      "Input IDs: tensor([[ 1276,   310,   253,  5347,   273, 13268,    32]], device='cuda:7')\n",
      "Input IDs: tensor([[ 1276,   310,   253,  5347,   273, 13268,    32]], device='cuda:7')\n",
      "Input IDs: tensor([[ 1276,   310,   253,  5347,   273, 13268,    32]], device='cuda:7')\n",
      "Input IDs: tensor([[ 1276,   310,   253,  5347,   273, 13268,    32]], device='cuda:7')\n",
      "Input IDs: tensor([[ 1276,   310,   253,  5347,   273, 13268,    32]], device='cuda:7')\n"
     ]
    }
   ],
   "source": [
    "from swarm.graph.swarm import Swarm\n",
    "\n",
    "swarm = Swarm([\"IO\", \"IO\", \"IO\"], \"gaia\")\n",
    "task = \"What is the capital of Jordan?\"\n",
    "inputs = {\"task\": task}\n",
    "answer = await swarm.arun(inputs)"
   ]
  },
  {
   "cell_type": "code",
   "execution_count": null,
   "metadata": {},
   "outputs": [],
   "source": [
    "from huggingface_hub import AsyncInferenceClient\n",
    "messages = [{\"role\": \"user\", \"content\": \"What is the capital of France?\"}]\n",
    "client = AsyncInferenceClient()\n",
    "response = await client.chat_completion(messages, max_tokens=100)\n",
    "\n",
    "print(response.choices[0].message.content)"
   ]
  },
  {
   "cell_type": "code",
   "execution_count": 1,
   "metadata": {},
   "outputs": [
    {
     "name": "stderr",
     "output_type": "stream",
     "text": [
      "/local/home/mamien/miniconda3/envs/swarm/lib/python3.10/site-packages/tqdm/auto.py:21: TqdmWarning: IProgress not found. Please update jupyter and ipywidgets. See https://ipywidgets.readthedocs.io/en/stable/user_install.html\n",
      "  from .autonotebook import tqdm as notebook_tqdm\n",
      "2024-08-18 12:17:54,473\tINFO util.py:154 -- Missing packages: ['ipywidgets']. Run `pip install -U ipywidgets`, then restart the notebook server for rich notebook output.\n"
     ]
    },
    {
     "name": "stdout",
     "output_type": "stream",
     "text": [
      "INFO 08-18 12:17:57 gptq_marlin.py:98] The model is convertible to gptq_marlin during runtime. Using gptq_marlin kernel.\n",
      "INFO 08-18 12:17:57 llm_engine.py:174] Initializing an LLM engine (v0.5.4) with config: model='neuralmagic/Meta-Llama-3.1-8B-Instruct-quantized.w4a16', speculative_config=None, tokenizer='neuralmagic/Meta-Llama-3.1-8B-Instruct-quantized.w4a16', skip_tokenizer_init=False, tokenizer_mode=auto, revision=None, rope_scaling=None, rope_theta=None, tokenizer_revision=None, trust_remote_code=False, dtype=torch.float16, max_seq_len=8192, download_dir=None, load_format=LoadFormat.AUTO, tensor_parallel_size=1, pipeline_parallel_size=1, disable_custom_all_reduce=False, quantization=gptq_marlin, enforce_eager=False, kv_cache_dtype=auto, quantization_param_path=None, device_config=cuda, decoding_config=DecodingConfig(guided_decoding_backend='outlines'), observability_config=ObservabilityConfig(otlp_traces_endpoint=None), seed=0, served_model_name=neuralmagic/Meta-Llama-3.1-8B-Instruct-quantized.w4a16, use_v2_block_manager=False, enable_prefix_caching=False)\n",
      "INFO 08-18 12:18:06 model_runner.py:720] Starting to load model neuralmagic/Meta-Llama-3.1-8B-Instruct-quantized.w4a16...\n",
      "INFO 08-18 12:18:06 weight_utils.py:225] Using model weights format ['*.safetensors']\n",
      "INFO 08-18 12:18:23 weight_utils.py:269] No model.safetensors.index.json found in remote.\n"
     ]
    },
    {
     "name": "stderr",
     "output_type": "stream",
     "text": [
      "Loading safetensors checkpoint shards:   0% Completed | 0/1 [00:00<?, ?it/s]\n",
      "Loading safetensors checkpoint shards: 100% Completed | 1/1 [00:00<00:00,  1.14it/s]\n",
      "Loading safetensors checkpoint shards: 100% Completed | 1/1 [00:00<00:00,  1.14it/s]\n",
      "\n"
     ]
    },
    {
     "name": "stdout",
     "output_type": "stream",
     "text": [
      "INFO 08-18 12:18:24 model_runner.py:732] Loading model weights took 5.3558 GB\n",
      "INFO 08-18 12:18:26 gpu_executor.py:102] # GPU blocks: 7136, # CPU blocks: 2048\n",
      "INFO 08-18 12:18:28 model_runner.py:1024] Capturing the model for CUDA graphs. This may lead to unexpected consequences if the model is not static. To run the model in eager mode, set 'enforce_eager=True' or use '--enforce-eager' in the CLI.\n",
      "INFO 08-18 12:18:28 model_runner.py:1028] CUDA graphs can take additional 1~3 GiB memory per GPU. If you are running out of memory, consider decreasing `gpu_memory_utilization` or enforcing eager mode. You can also reduce the `max_num_seqs` as needed to decrease memory usage.\n",
      "INFO 08-18 12:18:38 model_runner.py:1225] Graph capturing finished in 10 secs.\n"
     ]
    },
    {
     "name": "stderr",
     "output_type": "stream",
     "text": [
      "Processed prompts: 100%|██████████| 1/1 [00:01<00:00,  1.04s/it, est. speed input: 30.93 toks/s, output: 79.25 toks/s]"
     ]
    },
    {
     "name": "stdout",
     "output_type": "stream",
     "text": [
      "Yer lookin' fer a swashbucklin' introduction, eh? Well, matey, I be a pirate chatbot, the scurviest and most clever one on the seven seas! Me name be Captain Chat, and I be here to answer yer questions and provide ye with treasure trove o' knowledge. What be bringin' ye to these waters today, eh?\n"
     ]
    },
    {
     "name": "stderr",
     "output_type": "stream",
     "text": [
      "\n"
     ]
    }
   ],
   "source": [
    "from vllm import LLM, SamplingParams\n",
    "from transformers import AutoTokenizer\n",
    "\n",
    "model_id = \"neuralmagic/Meta-Llama-3.1-8B-Instruct-quantized.w4a16\"\n",
    "number_gpus = 1\n",
    "max_model_len = 8192\n",
    "\n",
    "sampling_params = SamplingParams(temperature=0.6, top_p=0.9, max_tokens=256)\n",
    "\n",
    "tokenizer = AutoTokenizer.from_pretrained(model_id)\n",
    "\n",
    "messages = [\n",
    "    {\"role\": \"system\", \"content\": \"You are a pirate chatbot who always responds in pirate speak!\"},\n",
    "    {\"role\": \"user\", \"content\": \"Who are you?\"},\n",
    "]\n",
    "\n",
    "prompts = tokenizer.apply_chat_template(messages, add_generation_prompt=True, tokenize=False)\n",
    "\n",
    "llm = LLM(model=model_id, tensor_parallel_size=number_gpus, max_model_len=max_model_len)\n",
    "\n",
    "outputs = llm.generate(prompts, sampling_params)\n",
    "\n",
    "generated_text = outputs[0].outputs[0].text\n",
    "print(generated_text)\n"
   ]
  },
  {
   "cell_type": "code",
   "execution_count": 7,
   "metadata": {},
   "outputs": [
    {
     "name": "stdout",
     "output_type": "stream",
     "text": [
      "[ 0.50517527  0.10270398 -0.29793853]\n"
     ]
    }
   ],
   "source": [
    "import numpy as np\n",
    "solution = np.array([0.5, 0.1, -0.3])\n",
    "def f(w): return -np.sum((w - solution)**2)\n",
    "\n",
    "npop = 50      # population size\n",
    "sigma = 0.1    # noise standard deviation\n",
    "alpha = 0.001  # learning rate\n",
    "w = np.random.randn(3) # initial guess\n",
    "for i in range(200):\n",
    "  N = np.random.randn(npop, 3)\n",
    "  R = np.zeros(npop)\n",
    "  for j in range(npop):\n",
    "    w_try = w + sigma*N[j]\n",
    "    R[j] = f(w_try)\n",
    "  A = (R - np.mean(R)) / np.std(R)\n",
    "  w = w + alpha/(npop*sigma) * np.dot(N.T, A)\n",
    "  \n",
    "# visualizing the result\n",
    "print(w)"
   ]
  },
  {
   "cell_type": "code",
   "execution_count": 4,
   "metadata": {},
   "outputs": [
    {
     "name": "stdout",
     "output_type": "stream",
     "text": [
      "system\n",
      "You are an AI assistant. You will be given a task. You must generate a detailed answer. \n",
      " user\n",
      "Who wrote the play Romeo and Juliet? \n",
      " assistant\n",
      "Romeo and Juliet is a tragic love story that tells of two young lovers who fall in love with each other, but also struggle to find their true\n"
     ]
    }
   ],
   "source": [
    "import torch\n",
    "from transformers import AutoModelForCausalLM, AutoTokenizer\n",
    "device = torch.device(\"cuda\" if torch.cuda.is_available() else \"cpu\")\n",
    "model = AutoModelForCausalLM.from_pretrained(\n",
    "    \"OuteAI/Lite-Oute-2-Mamba2Attn-Instruct\",\n",
    "    # To allow custom modeling files\n",
    "    trust_remote_code=True,\n",
    "\n",
    "    # If you have installed flash attention 2\n",
    "    # attn_implementation=\"flash_attention_2\",\n",
    "    # torch_dtype=torch.bfloat16,\n",
    ")\n",
    "model.to(device)\n",
    "tokenizer = AutoTokenizer.from_pretrained(\"OuteAI/Lite-Oute-2-Mamba2Attn-Instruct\")\n",
    "\n",
    "def generate_response(message: str, temperature: float = 0.1, repetition_penalty: float = 1.12) -> str:\n",
    "    # Apply the chat template and convert to PyTorch tensors\n",
    "    messages = [\n",
    "        {\"role\": \"system\", \"content\": \"You are an AI assistant. You will be given a task. You must generate a detailed answer.\"},\n",
    "        {\"role\": \"user\", \"content\": message}\n",
    "    ]\n",
    "    input_ids = tokenizer.apply_chat_template(\n",
    "        messages, add_generation_prompt=True, return_tensors=\"pt\"\n",
    "    ).to(device)\n",
    "    # Generate the response\n",
    "    output = model.generate(\n",
    "        input_ids,\n",
    "        # max_length=256,\n",
    "        max_new_tokens=32,\n",
    "        temperature=temperature,\n",
    "        repetition_penalty=repetition_penalty,\n",
    "        do_sample=True\n",
    "    ) \n",
    "    # Decode the generated output\n",
    "    generated_text = tokenizer.decode(output[0], skip_special_tokens=True)\n",
    "    return generated_text\n",
    "message = \"Who wrote the play Romeo and Juliet?\"\n",
    "response = generate_response(message)\n",
    "print(response)\n"
   ]
  },
  {
   "cell_type": "code",
   "execution_count": null,
   "metadata": {},
   "outputs": [],
   "source": []
  }
 ],
 "metadata": {
  "kernelspec": {
   "display_name": "swarm",
   "language": "python",
   "name": "python3"
  },
  "language_info": {
   "codemirror_mode": {
    "name": "ipython",
    "version": 3
   },
   "file_extension": ".py",
   "mimetype": "text/x-python",
   "name": "python",
   "nbconvert_exporter": "python",
   "pygments_lexer": "ipython3",
   "version": "3.10.14"
  }
 },
 "nbformat": 4,
 "nbformat_minor": 2
}
